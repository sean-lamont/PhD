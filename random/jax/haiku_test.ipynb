{
 "cells": [
  {
   "cell_type": "code",
   "execution_count": 5,
   "metadata": {},
   "outputs": [],
   "source": [
    "import haiku as hk\n",
    "import jax\n",
    "import optax\n",
    "from jax import random\n",
    "from jax import numpy as jnp\n",
    "from jax import jit"
   ]
  },
  {
   "cell_type": "code",
   "execution_count": 6,
   "metadata": {},
   "outputs": [],
   "source": [
    "class MLP_test(hk.Module):\n",
    "    def __init__(self, dimensions, name=None):\n",
    "        super().__init__(name=name)\n",
    "        self.dimensions = dimensions\n",
    "        self.mlp = hk.nets.MLP(output_sizes=dimensions, name='mlp')\n",
    "\n",
    "    def __call__(self, x):\n",
    "        return self.mlp(x)\n",
    "    \n",
    "    \n",
    "    \n",
    "def _mlp_forward(x):\n",
    "    module = MLP_test([1,2,3])\n",
    "    return module(x)\n",
    "\n",
    "init, apply = hk.transform(_mlp_forward)\n"
   ]
  },
  {
   "cell_type": "code",
   "execution_count": 58,
   "metadata": {},
   "outputs": [],
   "source": [
    "class conv_test(hk.Module):\n",
    "    def __init__(self, name=None):\n",
    "        super().__init__(name=name)    \n",
    "        \n",
    "        #TODO: add state for batch norm \n",
    "        \n",
    "        self.conv1 = hk.Conv2D(32, 2) #out_channels, kernel_size (stride defaults to 1, in_channels done automatically) \n",
    "        self.bn1 = hk.BatchNorm(False, False, 0.995)\n",
    "        self.conv2 = hk.Conv2D(64, 2)\n",
    "        self.bn2 = hk.BatchNorm(False, False, 0.995)\n",
    "        self.fc = hk.Linear(128)\n",
    "        self.head = hk.Linear(1)\n",
    "\n",
    "    def __call__(self, x, is_training=True):\n",
    "        x = self.conv1(x)\n",
    "        x = jax.nn.relu(self.bn1(x, is_training))\n",
    "        x = jax.nn.relu(self.bn2(self.conv2(x), is_training))\n",
    "        x = jax.nn.relu(self.fc(x)) #check correct when compared to torch version\n",
    "        x = jax.nn.sigmoid(self.head(x))\n",
    "        \n",
    "        return x\n",
    "    \n",
    "    \n",
    "    \n",
    "def _conv_forward(x):\n",
    "    module = conv_test()\n",
    "    return module(x)\n",
    "\n",
    "init, apply = hk.transform_with_state(_mlp_forward)\n"
   ]
  },
  {
   "cell_type": "code",
   "execution_count": 59,
   "metadata": {},
   "outputs": [
    {
     "name": "stdout",
     "output_type": "stream",
     "text": [
      "5.31 ms ± 220 µs per loop (mean ± std. dev. of 7 runs, 100 loops each)\n",
      "374 µs ± 1.94 µs per loop (mean ± std. dev. of 7 runs, 1,000 loops each)\n"
     ]
    }
   ],
   "source": [
    "rng_key = random.PRNGKey(0)\n",
    "x = random.normal(rng_key, (1,6,128))\n",
    "initial_params, state = init(rng_key,x)\n",
    "\n",
    "\n",
    "%timeit new_params, new_state = apply(initial_params, state, rng_key,x)\n",
    "%timeit new_params_jit, new_state = jit(apply)(initial_params,state, rng_key,x)"
   ]
  },
  {
   "cell_type": "code",
   "execution_count": 7,
   "metadata": {},
   "outputs": [
    {
     "name": "stderr",
     "output_type": "stream",
     "text": [
      "WARNING:absl:No GPU/TPU found, falling back to CPU. (Set TF_CPP_MIN_LOG_LEVEL=0 and rerun for more info.)\n"
     ]
    },
    {
     "name": "stdout",
     "output_type": "stream",
     "text": [
      "1.11 ms ± 2.44 µs per loop (mean ± std. dev. of 7 runs, 1,000 loops each)\n",
      "168 µs ± 512 ns per loop (mean ± std. dev. of 7 runs, 10,000 loops each)\n"
     ]
    }
   ],
   "source": [
    "rng_key = random.PRNGKey(0)\n",
    "x = jnp.array([1.,2.,3.,4.])\n",
    "initial_params = init(rng_key,x)\n",
    "\n",
    "%timeit new_params = apply(initial_params,rng_key,x)\n",
    "%timeit new_params_jit = jit(apply)(initial_params,rng_key,x)\n"
   ]
  },
  {
   "cell_type": "code",
   "execution_count": 51,
   "metadata": {},
   "outputs": [
    {
     "name": "stdout",
     "output_type": "stream",
     "text": [
      "+----------------------------------------------------------------+----------------------------------------------------------------------+--------------------+------------------+--------------+---------------+---------------+\n",
      "| Module                                                         | Config                                                               | Module params      | Input            | Output       |   Param count |   Param bytes |\n",
      "+================================================================+======================================================================+====================+==================+==============+===============+===============+\n",
      "| conv_test (conv_test)                                          | conv_test()                                                          |                    | f32[1,6,128]     | f32[1,6,1]   |        33,121 |     132.48 KB |\n",
      "+----------------------------------------------------------------+----------------------------------------------------------------------+--------------------+------------------+--------------+---------------+---------------+\n",
      "| conv_test/~/conv2_d (Conv2D)                                   | Conv2D(output_channels=32, kernel_shape=2)                           | w: f32[2,2,128,32] | f32[1,6,128]     | f32[1,6,32]  |        16,416 |      65.66 KB |\n",
      "|  └ conv_test (conv_test)                                       |                                                                      | b: f32[32]         |                  |              |               |               |\n",
      "+----------------------------------------------------------------+----------------------------------------------------------------------+--------------------+------------------+--------------+---------------+---------------+\n",
      "| conv_test/~/batch_norm (BatchNorm)                             | BatchNorm(create_scale=False, create_offset=False, decay_rate=0.995) |                    | f32[1,6,32]      | f32[1,6,32]  |             0 |        0.00 B |\n",
      "|  └ conv_test (conv_test)                                       |                                                                      |                    | is_training=True |              |               |               |\n",
      "+----------------------------------------------------------------+----------------------------------------------------------------------+--------------------+------------------+--------------+---------------+---------------+\n",
      "| conv_test/~/batch_norm/~/mean_ema (ExponentialMovingAverage)   | ExponentialMovingAverage(decay=0.995, name='mean_ema')               |                    | f32[1,1,32]      | f32[1,1,32]  |             0 |        0.00 B |\n",
      "|  └ conv_test/~/batch_norm (BatchNorm)                          |                                                                      |                    |                  |              |               |               |\n",
      "|  └ conv_test (conv_test)                                       |                                                                      |                    |                  |              |               |               |\n",
      "+----------------------------------------------------------------+----------------------------------------------------------------------+--------------------+------------------+--------------+---------------+---------------+\n",
      "| conv_test/~/batch_norm/~/var_ema (ExponentialMovingAverage)    | ExponentialMovingAverage(decay=0.995, name='var_ema')                |                    | f32[1,1,32]      | f32[1,1,32]  |             0 |        0.00 B |\n",
      "|  └ conv_test/~/batch_norm (BatchNorm)                          |                                                                      |                    |                  |              |               |               |\n",
      "|  └ conv_test (conv_test)                                       |                                                                      |                    |                  |              |               |               |\n",
      "+----------------------------------------------------------------+----------------------------------------------------------------------+--------------------+------------------+--------------+---------------+---------------+\n",
      "| conv_test/~/conv2_d_1 (Conv2D)                                 | Conv2D(output_channels=64, kernel_shape=2)                           | w: f32[2,2,32,64]  | f32[1,6,32]      | f32[1,6,64]  |         8,256 |      33.02 KB |\n",
      "|  └ conv_test (conv_test)                                       |                                                                      | b: f32[64]         |                  |              |               |               |\n",
      "+----------------------------------------------------------------+----------------------------------------------------------------------+--------------------+------------------+--------------+---------------+---------------+\n",
      "| conv_test/~/batch_norm_1 (BatchNorm)                           | BatchNorm(create_scale=False, create_offset=False, decay_rate=0.995) |                    | f32[1,6,64]      | f32[1,6,64]  |             0 |        0.00 B |\n",
      "|  └ conv_test (conv_test)                                       |                                                                      |                    | is_training=True |              |               |               |\n",
      "+----------------------------------------------------------------+----------------------------------------------------------------------+--------------------+------------------+--------------+---------------+---------------+\n",
      "| conv_test/~/batch_norm_1/~/mean_ema (ExponentialMovingAverage) | ExponentialMovingAverage(decay=0.995, name='mean_ema')               |                    | f32[1,1,64]      | f32[1,1,64]  |             0 |        0.00 B |\n",
      "|  └ conv_test/~/batch_norm_1 (BatchNorm)                        |                                                                      |                    |                  |              |               |               |\n",
      "|  └ conv_test (conv_test)                                       |                                                                      |                    |                  |              |               |               |\n",
      "+----------------------------------------------------------------+----------------------------------------------------------------------+--------------------+------------------+--------------+---------------+---------------+\n",
      "| conv_test/~/batch_norm_1/~/var_ema (ExponentialMovingAverage)  | ExponentialMovingAverage(decay=0.995, name='var_ema')                |                    | f32[1,1,64]      | f32[1,1,64]  |             0 |        0.00 B |\n",
      "|  └ conv_test/~/batch_norm_1 (BatchNorm)                        |                                                                      |                    |                  |              |               |               |\n",
      "|  └ conv_test (conv_test)                                       |                                                                      |                    |                  |              |               |               |\n",
      "+----------------------------------------------------------------+----------------------------------------------------------------------+--------------------+------------------+--------------+---------------+---------------+\n",
      "| conv_test/~/linear (Linear)                                    | Linear(output_size=128)                                              | w: f32[64,128]     | f32[1,6,64]      | f32[1,6,128] |         8,320 |      33.28 KB |\n",
      "|  └ conv_test (conv_test)                                       |                                                                      | b: f32[128]        |                  |              |               |               |\n",
      "+----------------------------------------------------------------+----------------------------------------------------------------------+--------------------+------------------+--------------+---------------+---------------+\n",
      "| conv_test/~/linear_1 (Linear)                                  | Linear(output_size=1)                                                | w: f32[128,1]      | f32[1,6,128]     | f32[1,6,1]   |           129 |      516.00 B |\n",
      "|  └ conv_test (conv_test)                                       |                                                                      | b: f32[1]          |                  |              |               |               |\n",
      "+----------------------------------------------------------------+----------------------------------------------------------------------+--------------------+------------------+--------------+---------------+---------------+\n"
     ]
    }
   ],
   "source": [
    "print(hk.experimental.tabulate(_conv_forward)(x))"
   ]
  },
  {
   "cell_type": "code",
   "execution_count": 8,
   "metadata": {},
   "outputs": [
    {
     "name": "stdout",
     "output_type": "stream",
     "text": [
      "+------------------------------------+-----------------------------------------+-----------------+---------+----------+---------------+---------------+\n",
      "| Module                             | Config                                  | Module params   | Input   | Output   |   Param count |   Param bytes |\n",
      "+====================================+=========================================+=================+=========+==========+===============+===============+\n",
      "| mlp_test (MLP_test)                | MLP_test(dimensions=[1, 2, 3])          |                 | f32[4]  | f32[3]   |            18 |       72.00 B |\n",
      "+------------------------------------+-----------------------------------------+-----------------+---------+----------+---------------+---------------+\n",
      "| mlp_test/~/mlp (MLP)               | MLP(output_sizes=[1, 2, 3], name='mlp') |                 | f32[4]  | f32[3]   |            18 |       72.00 B |\n",
      "|  └ mlp_test (MLP_test)             |                                         |                 |         |          |               |               |\n",
      "+------------------------------------+-----------------------------------------+-----------------+---------+----------+---------------+---------------+\n",
      "| mlp_test/~/mlp/~/linear_0 (Linear) | Linear(output_size=1, name='linear_0')  | w: f32[4,1]     | f32[4]  | f32[1]   |             5 |       20.00 B |\n",
      "|  └ mlp_test/~/mlp (MLP)            |                                         | b: f32[1]       |         |          |               |               |\n",
      "|  └ mlp_test (MLP_test)             |                                         |                 |         |          |               |               |\n",
      "+------------------------------------+-----------------------------------------+-----------------+---------+----------+---------------+---------------+\n",
      "| mlp_test/~/mlp/~/linear_1 (Linear) | Linear(output_size=2, name='linear_1')  | b: f32[2]       | f32[1]  | f32[2]   |             4 |       16.00 B |\n",
      "|  └ mlp_test/~/mlp (MLP)            |                                         | w: f32[1,2]     |         |          |               |               |\n",
      "|  └ mlp_test (MLP_test)             |                                         |                 |         |          |               |               |\n",
      "+------------------------------------+-----------------------------------------+-----------------+---------+----------+---------------+---------------+\n",
      "| mlp_test/~/mlp/~/linear_2 (Linear) | Linear(output_size=3, name='linear_2')  | w: f32[2,3]     | f32[2]  | f32[3]   |             9 |       36.00 B |\n",
      "|  └ mlp_test/~/mlp (MLP)            |                                         | b: f32[3]       |         |          |               |               |\n",
      "|  └ mlp_test (MLP_test)             |                                         |                 |         |          |               |               |\n",
      "+------------------------------------+-----------------------------------------+-----------------+---------+----------+---------------+---------------+\n"
     ]
    }
   ],
   "source": [
    "print(hk.experimental.tabulate(_mlp_forward)(x))"
   ]
  },
  {
   "cell_type": "code",
   "execution_count": null,
   "metadata": {},
   "outputs": [],
   "source": []
  },
  {
   "cell_type": "code",
   "execution_count": null,
   "metadata": {},
   "outputs": [],
   "source": []
  },
  {
   "cell_type": "code",
   "execution_count": null,
   "metadata": {},
   "outputs": [],
   "source": []
  }
 ],
 "metadata": {
  "kernelspec": {
   "display_name": "jax",
   "language": "python",
   "name": "jax"
  },
  "language_info": {
   "codemirror_mode": {
    "name": "ipython",
    "version": 3
   },
   "file_extension": ".py",
   "mimetype": "text/x-python",
   "name": "python",
   "nbconvert_exporter": "python",
   "pygments_lexer": "ipython3",
   "version": "3.9.5"
  }
 },
 "nbformat": 4,
 "nbformat_minor": 4
}
