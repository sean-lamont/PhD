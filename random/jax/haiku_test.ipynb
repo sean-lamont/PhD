{
 "cells": [
  {
   "cell_type": "code",
   "execution_count": 29,
   "metadata": {},
   "outputs": [],
   "source": [
    "import haiku as hk\n",
    "import jax\n",
    "import optax\n",
    "from jax import random\n",
    "from jax import numpy as jnp\n",
    "from jax import jit"
   ]
  },
  {
   "cell_type": "code",
   "execution_count": 19,
   "metadata": {},
   "outputs": [],
   "source": [
    "class MLP_test(hk.Module):\n",
    "    def __init__(self, dimensions, name=None):\n",
    "        super().__init__(name=name)\n",
    "        self.dimensions = dimensions\n",
    "        self.mlp = hk.nets.MLP(output_sizes=dimensions, name='mlp')\n",
    "\n",
    "    def __call__(self, x):\n",
    "        return self.mlp(x)\n",
    "    \n",
    "    \n",
    "    \n",
    "def _mlp_forward(x):\n",
    "    module = MLP_test([1,2,3])\n",
    "    return module(x)\n",
    "\n",
    "init, apply = hk.transform(_mlp_forward)\n"
   ]
  },
  {
   "cell_type": "code",
   "execution_count": 31,
   "metadata": {},
   "outputs": [
    {
     "name": "stdout",
     "output_type": "stream",
     "text": [
      "1.1 ms ± 3.24 µs per loop (mean ± std. dev. of 7 runs, 1,000 loops each)\n",
      "173 µs ± 293 ns per loop (mean ± std. dev. of 7 runs, 10,000 loops each)\n"
     ]
    }
   ],
   "source": [
    "rng_key = random.PRNGKey(0)\n",
    "x = jnp.array([1.,2.,3.,4.])\n",
    "initial_params = init(rng_key,x)\n",
    "\n",
    "%timeit new_params = apply(initial_params,rng_key,x)\n",
    "%timeit new_params_jit = jit(apply)(initial_params,rng_key,x)\n"
   ]
  },
  {
   "cell_type": "code",
   "execution_count": 33,
   "metadata": {},
   "outputs": [
    {
     "name": "stdout",
     "output_type": "stream",
     "text": [
      "+------------------------------------+-----------------------------------------+-----------------+---------+----------+---------------+---------------+\n",
      "| Module                             | Config                                  | Module params   | Input   | Output   |   Param count |   Param bytes |\n",
      "+====================================+=========================================+=================+=========+==========+===============+===============+\n",
      "| mlp_test (MLP_test)                | MLP_test(dimensions=[1, 2, 3])          |                 | f32[4]  | f32[3]   |            18 |       72.00 B |\n",
      "+------------------------------------+-----------------------------------------+-----------------+---------+----------+---------------+---------------+\n",
      "| mlp_test/~/mlp (MLP)               | MLP(output_sizes=[1, 2, 3], name='mlp') |                 | f32[4]  | f32[3]   |            18 |       72.00 B |\n",
      "|  └ mlp_test (MLP_test)             |                                         |                 |         |          |               |               |\n",
      "+------------------------------------+-----------------------------------------+-----------------+---------+----------+---------------+---------------+\n",
      "| mlp_test/~/mlp/~/linear_0 (Linear) | Linear(output_size=1, name='linear_0')  | w: f32[4,1]     | f32[4]  | f32[1]   |             5 |       20.00 B |\n",
      "|  └ mlp_test/~/mlp (MLP)            |                                         | b: f32[1]       |         |          |               |               |\n",
      "|  └ mlp_test (MLP_test)             |                                         |                 |         |          |               |               |\n",
      "+------------------------------------+-----------------------------------------+-----------------+---------+----------+---------------+---------------+\n",
      "| mlp_test/~/mlp/~/linear_1 (Linear) | Linear(output_size=2, name='linear_1')  | b: f32[2]       | f32[1]  | f32[2]   |             4 |       16.00 B |\n",
      "|  └ mlp_test/~/mlp (MLP)            |                                         | w: f32[1,2]     |         |          |               |               |\n",
      "|  └ mlp_test (MLP_test)             |                                         |                 |         |          |               |               |\n",
      "+------------------------------------+-----------------------------------------+-----------------+---------+----------+---------------+---------------+\n",
      "| mlp_test/~/mlp/~/linear_2 (Linear) | Linear(output_size=3, name='linear_2')  | w: f32[2,3]     | f32[2]  | f32[3]   |             9 |       36.00 B |\n",
      "|  └ mlp_test/~/mlp (MLP)            |                                         | b: f32[3]       |         |          |               |               |\n",
      "|  └ mlp_test (MLP_test)             |                                         |                 |         |          |               |               |\n",
      "+------------------------------------+-----------------------------------------+-----------------+---------+----------+---------------+---------------+\n"
     ]
    }
   ],
   "source": [
    "print(hk.experimental.tabulate(_mlp_forward)(x))"
   ]
  },
  {
   "cell_type": "code",
   "execution_count": null,
   "metadata": {},
   "outputs": [],
   "source": []
  }
 ],
 "metadata": {
  "kernelspec": {
   "display_name": "acme",
   "language": "python",
   "name": "acme"
  },
  "language_info": {
   "codemirror_mode": {
    "name": "ipython",
    "version": 3
   },
   "file_extension": ".py",
   "mimetype": "text/x-python",
   "name": "python",
   "nbconvert_exporter": "python",
   "pygments_lexer": "ipython3",
   "version": "3.8.10"
  }
 },
 "nbformat": 4,
 "nbformat_minor": 4
}
