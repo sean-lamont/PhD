{
 "cells": [
  {
   "cell_type": "code",
   "execution_count": 30,
   "metadata": {},
   "outputs": [],
   "source": [
    "import jax\n",
    "from jax import random\n",
    "from jax import numpy as jnp\n",
    "from jax import jit\n",
    "import numpy as np\n",
    "from jax import grad"
   ]
  },
  {
   "cell_type": "code",
   "execution_count": 15,
   "metadata": {},
   "outputs": [
    {
     "name": "stdout",
     "output_type": "stream",
     "text": [
      "[4146024105  967050713] [2718843009 1272950319]\n",
      "0.14389051\n",
      "[2384771982 3928867769] [1278412471 2182328957]\n",
      "0.8077484\n",
      "[3382499631 3878610767] [4104543539 3483300570]\n",
      "-0.48762512\n",
      "[1226047270 2014510724] [1194623263 2038155241]\n",
      "0.9686511\n",
      "[1609026066 3001304597] [2205739499 3850766070]\n",
      "-1.9797853\n",
      "[3110407274 4280739360] [2336434339  995697925]\n",
      "-0.25533995\n",
      "[2508251962 3774410358] [2705577746 2909830199]\n",
      "-1.3754874\n",
      "[1826722230  472279797] [ 615925444 2375634444]\n",
      "-0.9090381\n",
      "[1437271066   43563307] [3971862319 2771547813]\n",
      "0.14624894\n",
      "[4026315665 4041423080] [1826286040 3301512477]\n",
      "-0.25774714\n"
     ]
    }
   ],
   "source": [
    "#Play around with jax random and keys/subkeys\n",
    "seed = 0\n",
    "key = random.PRNGKey(seed)\n",
    "\n",
    "for i in range(10):\n",
    "    key, subkey = random.split(key)\n",
    "    print (key, subkey)\n",
    "    print (random.normal(key))\n"
   ]
  },
  {
   "cell_type": "code",
   "execution_count": 33,
   "metadata": {},
   "outputs": [
    {
     "name": "stdout",
     "output_type": "stream",
     "text": [
      "16.9 µs ± 54.7 ns per loop (mean ± std. dev. of 7 runs, 100,000 loops each)\n",
      "120 µs ± 1.12 µs per loop (mean ± std. dev. of 7 runs, 10,000 loops each)\n"
     ]
    }
   ],
   "source": [
    "#timing test\n",
    "\n",
    "@jit\n",
    "def test_func(W, x):\n",
    "    return jnp.dot(W.T, x)\n",
    "\n",
    "def np_test(W, x):\n",
    "    return np.dot(W.T, x)\n",
    "\n",
    "W = random.normal(key, [2,5])\n",
    "\n",
    "x = random.normal(key, [2,1])\n",
    "\n",
    "%timeit test_func(W, x)\n",
    "%timeit np_test(W, x)\n"
   ]
  },
  {
   "cell_type": "code",
   "execution_count": 34,
   "metadata": {},
   "outputs": [],
   "source": [
    "#grad update function\n",
    "\n",
    "@jit\n",
    "def grad_update(params, lr, gradient):\n",
    "    params -= lr * gradient\n",
    "    return params"
   ]
  },
  {
   "cell_type": "code",
   "execution_count": null,
   "metadata": {},
   "outputs": [],
   "source": []
  }
 ],
 "metadata": {
  "kernelspec": {
   "display_name": "acme",
   "language": "python",
   "name": "acme"
  },
  "language_info": {
   "codemirror_mode": {
    "name": "ipython",
    "version": 3
   },
   "file_extension": ".py",
   "mimetype": "text/x-python",
   "name": "python",
   "nbconvert_exporter": "python",
   "pygments_lexer": "ipython3",
   "version": "3.8.10"
  }
 },
 "nbformat": 4,
 "nbformat_minor": 4
}
